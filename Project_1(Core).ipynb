{
  "nbformat": 4,
  "nbformat_minor": 0,
  "metadata": {
    "colab": {
      "provenance": [],
      "toc_visible": true,
      "authorship_tag": "ABX9TyNJc8b4NucEbhrN0aQas+mH",
      "include_colab_link": true
    },
    "kernelspec": {
      "name": "python3",
      "display_name": "Python 3"
    },
    "language_info": {
      "name": "python"
    }
  },
  "cells": [
    {
      "cell_type": "markdown",
      "metadata": {
        "id": "view-in-github",
        "colab_type": "text"
      },
      "source": [
        "<a href=\"https://colab.research.google.com/github/JmB17/Prediction-of-Product-Sales/blob/main/Project_1(Core).ipynb\" target=\"_parent\"><img src=\"https://colab.research.google.com/assets/colab-badge.svg\" alt=\"Open In Colab\"/></a>"
      ]
    },
    {
      "cell_type": "markdown",
      "source": [
        "#  **Prediction-of-Product-Sales**"
      ],
      "metadata": {
        "id": "QgZNiHXxlW9z"
      }
    },
    {
      "cell_type": "markdown",
      "source": [
        "Justice Mansfield-Beaulieu"
      ],
      "metadata": {
        "id": "K5OpHWWHnWEW"
      }
    },
    {
      "cell_type": "markdown",
      "source": [
        "# Project Overview"
      ],
      "metadata": {
        "id": "Icc19yZNnbKP"
      }
    },
    {
      "cell_type": "code",
      "source": [],
      "metadata": {
        "id": "Zs854xjkn6Li"
      },
      "execution_count": null,
      "outputs": []
    },
    {
      "cell_type": "markdown",
      "source": [
        "# Load and Inspect Data"
      ],
      "metadata": {
        "id": "m5-D03n1nbT3"
      }
    },
    {
      "cell_type": "code",
      "source": [],
      "metadata": {
        "id": "xI_McI3Rn6on"
      },
      "execution_count": null,
      "outputs": []
    },
    {
      "cell_type": "markdown",
      "source": [
        "# Clean Data"
      ],
      "metadata": {
        "id": "QitcvYqcnbbH"
      }
    },
    {
      "cell_type": "code",
      "source": [],
      "metadata": {
        "id": "8iy1Y6Tln69f"
      },
      "execution_count": null,
      "outputs": []
    },
    {
      "cell_type": "markdown",
      "source": [
        "# Exploratory Data Analysis"
      ],
      "metadata": {
        "id": "fYx7mGI9nbhB"
      }
    },
    {
      "cell_type": "code",
      "source": [],
      "metadata": {
        "id": "nRoURHWQn7TX"
      },
      "execution_count": null,
      "outputs": []
    },
    {
      "cell_type": "markdown",
      "source": [
        "# Explanatory Data Analysis"
      ],
      "metadata": {
        "id": "067QeCOInbl7"
      }
    },
    {
      "cell_type": "code",
      "source": [],
      "metadata": {
        "id": "-CXc24KMn7uc"
      },
      "execution_count": null,
      "outputs": []
    }
  ]
}